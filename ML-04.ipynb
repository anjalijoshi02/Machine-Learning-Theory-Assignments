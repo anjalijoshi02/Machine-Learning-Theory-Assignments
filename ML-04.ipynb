{
 "cells": [
  {
   "cell_type": "markdown",
   "id": "05ebde3e",
   "metadata": {},
   "source": [
    "###  Assignment-4 "
   ]
  },
  {
   "cell_type": "markdown",
   "id": "8c1a52f5",
   "metadata": {},
   "source": [
    "1. Key tasks in Machine Learning:\n",
    "- Data Ingestion\n",
    "- Data VAlidation\n",
    "- Data Transformation( EDA and Feature Engineering)\n",
    "- Model Training\n",
    "- Model Selection \n",
    "- Deployment"
   ]
  },
  {
   "cell_type": "markdown",
   "id": "19cc1d9c",
   "metadata": {},
   "source": [
    "2. Four types of data can be \n",
    "-  __Numerical Data__ : Numerical data is any data where data points are exact numbers. Statisticians also might call numerical data, quantitative data. This data has meaning as a measurement such as house prices or as a count, such as a number of residential properties in Los Angeles or how many houses sold in the past year.         \n",
    "Numerical data can be characterized by continuous or discrete data. Continuous data can assume any value within a range whereas discrete data has distinct values.\n",
    "\n",
    "- __Categorical Data__:Categorical data represents characteristics, such as a hockey player’s position, team, hometown. Categorical data can take numerical values. For example, maybe we would use 1 for the colour red and 2 for blue. But these numbers don’t have a mathematical meaning. That is, we can’t add them together or take the average.\n",
    "\n",
    "- __Time Series__ : Time series data is a sequence of numbers collected at regular intervals over some period of time. It is very important, especially in particular fields like finance. Time series data has a temporal value attached to it, so this would be something like a date or a timestamp that you can look for trends in time.\n",
    "\n",
    "- __Text__: Text data is basically just words. A lot of the time the first thing that you do with text is you turn it into numbers using some interesting functions like the bag of words formulation."
   ]
  },
  {
   "cell_type": "markdown",
   "id": "3742be89",
   "metadata": {},
   "source": [
    "3. - __Numeric vs. categorical attributes__:\n",
    "Numerical data are values obtained for quantitative variable, and carries a sense of magnitude related to the context of the variable (hence, they are always numbers or symbols carrying a numerical value).\n",
    "Categorical data are values obtained for a qualitative variable. categorical data numbers do not carry a sense of magnitude.\n",
    "Numerical data always belong to either ordinal, ratio, or interval type, whereas categorical data belong to nominal type. - - Methods used to analyse quantitative data are different from the methods used for categorical data, even if the principles are the same at least the application has significant differences.\n",
    "Numerical data are analysed using statistical methods in descriptive statistics, regression, time series and many more.For categorical data usually descriptive methods and graphical methods are employed. Some non-parametric tests are also used.\n",
    "\n",
    "\n",
    "- __Feature selection vs. dimensionality reduction__\n",
    "Feature selection you just select a subset of the original feature set, without any manipulation of the data on the other hand.\n",
    "Dimensionality reduction is typically choosing a new representation within which you can describe most but not all of the variance within your data, thereby retaining the relevant information, while reducing theamount of information necessary to represent it"
   ]
  },
  {
   "cell_type": "markdown",
   "id": "ce3132db",
   "metadata": {},
   "source": [
    "4. __The histogram:__ A Histogram is a graphical representation that organizes a group of data points into user-specified ranges. Similar in appearance to a bar graph, the histogram condenses a data series into an easily interpreted visual by taking many data points and grouping them into logical ranges or bins.\n",
    "\n",
    "__Use a scatter plot:__ A scatter plot (aka scatter chart, scatter graph) uses dots to represent values for two different numeric variables. The position of each dot on the horizontal and vertical axis indicates values for an individual data point. Scatter plots are used to observe relationships between variables.\n",
    "\n",
    "__PCA (Principal Component Analysis):__ Principal Component Analysis or PCA is a widely used technique for dimensionality reduction of the large data set. Reducing the number of components or features costs some accuracy and on the other hand, it makes the large data set simpler, easy to explore and visualize."
   ]
  },
  {
   "cell_type": "markdown",
   "id": "90559f14",
   "metadata": {},
   "source": [
    "5.  If your data set is messy, building models will not help you to solve your problem. What will happen is Garbage In, Garbage Out. In order to build a powerful machine learning algorithm. We need to explore and understand our data set before we define a predictive task and solve it."
   ]
  },
  {
   "cell_type": "markdown",
   "id": "61b17696",
   "metadata": {},
   "source": [
    "6. The different types of a Histogram are:\n",
    "\n",
    "- Uniform Histogram\n",
    "- Symmetric Histogram\n",
    "- Bimodal Histogram\n",
    "- Probability Histogram.\n",
    "- The bin in a histogram is the choice of unit and spacing on the X-axis. All the data in a probability distribution represented visually by a histogram is filled into the corresponding bins. The height of each bin is a measurement of the frequency with which data appears inside the range of that bin in the distribution."
   ]
  },
  {
   "cell_type": "markdown",
   "id": "75276f70",
   "metadata": {},
   "source": [
    "7. We can use Z-Score or any of below methods to deal with data outliers:\n",
    "\n",
    "- __Univariate Method:__ This method looks for data points with extreme values on one variable.\n",
    "\n",
    "- __Multivariate Method:__ Here, we look for unusual combinations of all the variables.\n",
    "\n",
    "- __Minkowski Error:__ This method reduces the contribution of potential outliers in the training process.\n",
    "\n",
    "- __Z-Score:__ This can be done with just one line code as we have already calculated the Z-score.\n",
    "\n",
    "- __Quantile function:__ Use quantile() to remove amount of data."
   ]
  },
  {
   "cell_type": "markdown",
   "id": "015fca8d",
   "metadata": {},
   "source": [
    "8. __Mean, Median and Mode__ are Central Inclination Measures. Mean varies more than Median due to presence of outliers, as mean is averaging all points while median in like finding a middle number."
   ]
  },
  {
   "cell_type": "markdown",
   "id": "e99b4aa6",
   "metadata": {},
   "source": [
    "9. A __Scatter Plot__ (aka scatter chart, scatter graph) uses dots to represent values for two different numeric variables. The position of each dot on the horizontal and vertical axis indicates values for an individual data point. So this visualization gives us the idea of bivariate relationship.\n",
    "\n",
    "Scatter plot can also help finding outliers as outliers can be visualized at farther distance than regular data."
   ]
  },
  {
   "cell_type": "markdown",
   "id": "a0ad4dee",
   "metadata": {},
   "source": [
    "10. __Cross tabulation__ is a method to quantitatively analyze the relationship between multiple variables. Also known as contingency tables or cross tabs, cross tabulation groups variables to understand the correlation between different variables. It also shows how correlations change from one variable grouping to another."
   ]
  }
 ],
 "metadata": {
  "kernelspec": {
   "display_name": "Python 3 (ipykernel)",
   "language": "python",
   "name": "python3"
  },
  "language_info": {
   "codemirror_mode": {
    "name": "ipython",
    "version": 3
   },
   "file_extension": ".py",
   "mimetype": "text/x-python",
   "name": "python",
   "nbconvert_exporter": "python",
   "pygments_lexer": "ipython3",
   "version": "3.9.12"
  }
 },
 "nbformat": 4,
 "nbformat_minor": 5
}
