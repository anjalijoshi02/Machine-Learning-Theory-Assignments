{
 "cells": [
  {
   "cell_type": "markdown",
   "id": "a0c76126",
   "metadata": {},
   "source": [
    "## Assignment -7"
   ]
  },
  {
   "cell_type": "markdown",
   "id": "28a5467c",
   "metadata": {},
   "source": [
    "__Ans 1__:\n",
    "-  A target function, in machine learning, is a method for solving a problem that an AI algorithm parses its training data to find.The target function is essentially the formula that an algorithm feeds data to in order to calculate predictions.\n",
    "\n",
    "- Analyzing the massive amounts of data related to its given problem, an AI derives understanding of previously unspecified rules by detecting consistencies in the data. The observations of inherent rules about how the studied subject operates inform the AI on how to process future data that does not include an output by applying this previously unknown function."
   ]
  },
  {
   "cell_type": "markdown",
   "id": "c169de10",
   "metadata": {},
   "source": [
    "__Ans 2__:\n",
    "-  In short, predictive modeling is a statistical technique using machine learning and data mining to predict and forecast likely future outcomes with the aid of historical and existing data.\n",
    "\n",
    "- It works by analyzing current and historical data and projecting what it learns on a model generated to forecast likely outcomes.\n",
    "\n",
    "- The three main types of descriptive studies are Case studies, Naturalistic observation, and Surveys.\n",
    "\n",
    "- Some examples of descriptive research are: A specialty food group launching a new range of barbecue rubs would like to understand what flavors of rubs are favored by different people.\n",
    "\n",
    "- Case Studies are a type of observational research that involve a thorough descriptive analysis of a single individual, group, or event. There is no single way to conduct a case study so researchers use a range of methods from unstructured interviewing to direct observation."
   ]
  },
  {
   "cell_type": "markdown",
   "id": "4224b9a3",
   "metadata": {},
   "source": [
    "__Ans 3__:     .       \n",
    " Logarithmic loss (or log loss) measures the performance of a classification model where the prediction is a probability value between 0 and 1.                                      \n",
    "\n",
    "Log loss increases as the predicted probability diverge from the actual label. Log loss is a widely used metric for Kaggle competitions. Input on the most important basics for the measurement of the physical parameters: Temperature, flow velocity, humidity, pressure, CO2 and infrared. Tips on correct measurement and for avoiding measurement errors."
   ]
  },
  {
   "cell_type": "markdown",
   "id": "eb18edc6",
   "metadata": {},
   "source": [
    "__Ans 4__:       .           \n",
    "The following is the short notes on:\n",
    "\n",
    "- __In the sense of machine learning models, what is underfitting? What is the most common reason for underfitting:__\n",
    "\n",
    "Underfitting is a scenario in data science where a data model is unable to capture the relationship between the input and output variables accurately, generating a high error rate on both the training set and unseen data.\n",
    "\n",
    "- __What does it mean to overfit? When is it going to happen__\n",
    "\n",
    "Overfitting happens when a model learns the detail and noise in the training data to the extent that it negatively impacts the performance of the model on new data. This means that the noise or random fluctuations in the training data is picked up and learned as concepts by the model.\n",
    "\n",
    "- __In the sense of model fitting, explain the bias-variance trade-off__\n",
    "\n",
    "The bias is known as the difference between the prediction of the values by the ML model and the correct value. Being high in biasing gives a large error in training as well as testing data. By high bias, the data predicted is in a straight line format, thus not fitting accurately in the data in the data set."
   ]
  },
  {
   "cell_type": "markdown",
   "id": "c61bf9cf",
   "metadata": {},
   "source": [
    "__Ans 5__:\n",
    "- Building a machine learning model is not enough to get the right predictions, as you have to check the accuracy and need to validate the same to ensure get the precise results. And validating the model will improve the performance of the ML model."
   ]
  },
  {
   "cell_type": "markdown",
   "id": "bb29b7c4",
   "metadata": {},
   "source": [
    "__Ans 6__:           .                \n",
    "In case of supervised learning, it is mostly done by measuring the performance metrics such as accuracy, precision, recall, AUC, etc. on the training set and the holdout sets.\n",
    "\n",
    "Few examples of such measures are:\n",
    "\n",
    "1. Silhouette coefficient.\n",
    "2. Calisnki-Harabasz coefficient.\n",
    "3. Dunn index.\n",
    "4. Xie-Beni score.\n",
    "5. Hartigan index."
   ]
  },
  {
   "cell_type": "markdown",
   "id": "8c9a0f31",
   "metadata": {},
   "source": [
    "__Ans 7__:\n",
    "- Categorical Data is the data that generally takes a limited number of possible values. Also, the data in the category need not be numerical, it can be textual in nature. All machine learning models are some kind of mathematical model that need numbers to work with. This is one of the primary reasons we need to pre-process the categorical data before we can feed it to machine learning models.\n",
    "\n",
    "- If a categorical target variable needs to be encoded for a classification predictive modeling problem, then the LabelEncoder class can be used."
   ]
  },
  {
   "cell_type": "markdown",
   "id": "5c214bab",
   "metadata": {},
   "source": [
    "__Ans 8__:\n",
    "- Predictive modeling is a statistical technique using machine learning and data mining to predict and forecast likely future outcomes with the aid of historical and existing data. It works by analyzing current and historical data and projecting what it learns on a model generated to forecast likely outcomes.\n",
    "\n",
    "- Classification is the process of identifying the category or class label of the new observation to which it belongs.Predication is the process of identifying the missing or unavailable numerical data for a new observation. That is the key difference between classification and prediction."
   ]
  },
  {
   "cell_type": "markdown",
   "id": "560c85fa",
   "metadata": {},
   "source": [
    "__Ans 9__:           .            \n",
    "The Quick notes on the following topics is below:\n",
    "\n",
    "- __The process of holding out:__\n",
    "The hold-out method for training machine learning model is the process of splitting the data in different splits and using one split for training the model and other splits for validating and testing the models. The hold-out method is used for both model evaluation and model selection.\n",
    "- __Cross-validation by tenfold:__\n",
    "10-fold cross validation would perform the fitting procedure a total of ten times, with each fit being performed on a training set consisting of 90% of the total training set selected at random, with the remaining 10% used as a hold out set for validation.\n",
    "- __Adjusting the parameters:__\n",
    "A fancy name for training: the selection of parameter values, which are optimal in some desired sense (eg. minimize an objective function you choose over a dataset you choose). The parameters are the weights and biases of the network"
   ]
  }
 ],
 "metadata": {
  "kernelspec": {
   "display_name": "Python 3 (ipykernel)",
   "language": "python",
   "name": "python3"
  },
  "language_info": {
   "codemirror_mode": {
    "name": "ipython",
    "version": 3
   },
   "file_extension": ".py",
   "mimetype": "text/x-python",
   "name": "python",
   "nbconvert_exporter": "python",
   "pygments_lexer": "ipython3",
   "version": "3.9.12"
  }
 },
 "nbformat": 4,
 "nbformat_minor": 5
}
