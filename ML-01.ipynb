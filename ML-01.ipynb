{
 "cells": [
  {
   "cell_type": "markdown",
   "id": "189985af",
   "metadata": {},
   "source": [
    "### Assignment -1"
   ]
  },
  {
   "cell_type": "markdown",
   "id": "bf992055",
   "metadata": {},
   "source": [
    "1. Machine Learning can be defined as the use of software applications to become more more accurate at perdicting outcomes without being explicityly programmed to do so. We basically train the models with lots of data. In this way the machine learns the patterns and make predictions"
   ]
  },
  {
   "cell_type": "markdown",
   "id": "ec8e0f2a",
   "metadata": {},
   "source": [
    "2. Uses of Machine Learning :\n",
    "- Spam Classification : It can be used to filter out spam/not spam emails\n",
    "- Credit Card Defaulters : We can train the model and on that basis the model can tell who can be possible defaulters in the future.\n",
    "- Videos Recommendation system : Based on the watch, search history, geographical location etc, the machine learns the individual's behaviour and tries to predict the new videos.\n",
    "- Image Recognition : We train our model by feeding data and then the machine tries to recongnise the images based on that learning."
   ]
  },
  {
   "cell_type": "markdown",
   "id": "adfcca73",
   "metadata": {},
   "source": [
    "3. Labelled training set is used to train the ML model and based on this learning , the model predicts the value of test dataset."
   ]
  },
  {
   "cell_type": "markdown",
   "id": "a9eae574",
   "metadata": {},
   "source": [
    "4. Two of the most important tasks that are performed using supervised machine learning are : \n",
    "- Classification \n",
    "- Regression"
   ]
  },
  {
   "cell_type": "markdown",
   "id": "8b7045c8",
   "metadata": {},
   "source": [
    "5. Four unsupervised machine learning applications :\n",
    "- Product Segmentation\n",
    "- Customer Segmentation\n",
    "- Recommendation system\n",
    "- Dimensionality Reduction"
   ]
  },
  {
   "cell_type": "markdown",
   "id": "7c83abf8",
   "metadata": {},
   "source": [
    "6. Reinforced learning \n",
    "- In this the robot will optimize its performance through the response it gets after walking in the terrain"
   ]
  },
  {
   "cell_type": "markdown",
   "id": "cd874fb9",
   "metadata": {},
   "source": [
    "7. - If the labels are known then we would use SUPERVISED ML algorithms\n",
    "- If the labels are not known then it would be an UNSUPERVISED ML problem"
   ]
  },
  {
   "cell_type": "markdown",
   "id": "3d8f12e2",
   "metadata": {},
   "source": [
    "8. Spam detection is a supervised machine learning problem as the labels ie soam/not spam are already known"
   ]
  },
  {
   "cell_type": "markdown",
   "id": "57a6ebb5",
   "metadata": {},
   "source": [
    "9. In online learning , the machine learns continuously as small streams of input is always provided"
   ]
  },
  {
   "cell_type": "markdown",
   "id": "2ed5a2a6",
   "metadata": {},
   "source": [
    "10. Out-of-core learning system is a system that can handle data that cannot fit into your computer memory. It uses online learning system to feed data in small bits."
   ]
  },
  {
   "cell_type": "markdown",
   "id": "c13d3269",
   "metadata": {},
   "source": [
    "11. Learning algorithm that relies on a similarity measure to make predictions is __Instance Based Algorithm__."
   ]
  },
  {
   "cell_type": "markdown",
   "id": "428ecb4e",
   "metadata": {},
   "source": [
    "12. - Model parameter determines how a model will predict given a new instance. Model usually has more than one parameter (i.e. slope of a linear model).\n",
    "- Hyperparameter is a parameter for the learning algorithm, not of a model."
   ]
  },
  {
   "cell_type": "markdown",
   "id": "5ff997e1",
   "metadata": {},
   "source": [
    "13. Model based learning algorithm search for the optimal value of parameters in a model that will give the best results for the new instances. We often use a cost function or similar to determine what the parameter value has to be in order to minimize the function. The model makes prediction by using the value of the new instance and the parameters in its function."
   ]
  },
  {
   "cell_type": "markdown",
   "id": "f3d07ed8",
   "metadata": {},
   "source": [
    "14. Four ML Chalenges:\n",
    "- Over-fitting and Under-fitting\n",
    "- Data Drift\n",
    "- Anamolies\n",
    "- Missing Values"
   ]
  },
  {
   "cell_type": "markdown",
   "id": "c7ffe44a",
   "metadata": {},
   "source": [
    "15. When Training accuracy is high and test accuracy is low, this condition is called __overfitting__.                  \n",
    "* Three options to tackle this :\n",
    "1. Ingestion of more data\n",
    "2.  Handling missing values/ Outliers\n",
    "3.  Implementing other models"
   ]
  },
  {
   "cell_type": "markdown",
   "id": "40a93a30",
   "metadata": {},
   "source": [
    "16. Test set is the one on which the trained model is tested.We need test dataset to test the accuracy of the model before actually using the model for predictions."
   ]
  },
  {
   "cell_type": "markdown",
   "id": "6793ccd8",
   "metadata": {},
   "source": [
    "17. Validation set is a set used to compare between different training models."
   ]
  },
  {
   "cell_type": "markdown",
   "id": "8726445c",
   "metadata": {},
   "source": [
    "18. Cross-validation is a tool to compare models without needing a separate validation set. It is preferred over validation set because we can save from breaking of part of the training set to create a validation set, as having more data is valuable regardless."
   ]
  },
  {
   "cell_type": "markdown",
   "id": "8368683f",
   "metadata": {},
   "source": [
    "19.  If you tune hyperparameters using the test sets, then it may not perform well on the out-of-sample data because the model is tuned just for that specific set."
   ]
  }
 ],
 "metadata": {
  "kernelspec": {
   "display_name": "Python 3 (ipykernel)",
   "language": "python",
   "name": "python3"
  },
  "language_info": {
   "codemirror_mode": {
    "name": "ipython",
    "version": 3
   },
   "file_extension": ".py",
   "mimetype": "text/x-python",
   "name": "python",
   "nbconvert_exporter": "python",
   "pygments_lexer": "ipython3",
   "version": "3.9.12"
  }
 },
 "nbformat": 4,
 "nbformat_minor": 5
}
