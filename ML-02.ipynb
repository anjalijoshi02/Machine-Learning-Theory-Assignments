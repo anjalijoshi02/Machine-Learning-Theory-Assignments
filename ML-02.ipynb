{
 "cells": [
  {
   "cell_type": "markdown",
   "id": "9fe230e5",
   "metadata": {},
   "source": [
    "### Assignment-2"
   ]
  },
  {
   "cell_type": "markdown",
   "id": "0b924fb1",
   "metadata": {},
   "source": [
    "1. Human Learning : It is a form of learning that requires higher mental processes like thinking,reasoning, intelligence.       \n",
    "Examples:\n",
    "-  Through Observation\n",
    "-  Through Consequences\n"
   ]
  },
  {
   "cell_type": "markdown",
   "id": "94988417",
   "metadata": {},
   "source": [
    "2. Different Forms of ML are as follows :\n",
    "\n",
    "- Artificial Intelligence Learning Theories. Machine Learning. Reinforcement Learning. Supervised Learning. Unsupervised Learning.\n",
    "- ML equivalents like Linear regression, decision trees, random forest and support vector machines are some commonly used techniques that are actually examples of supervised learning."
   ]
  },
  {
   "cell_type": "markdown",
   "id": "c2e2e278",
   "metadata": {},
   "source": [
    "3. Machine learning is a branch of Artificial intelligence (AI) that teaches computers on how to think in a similar way to how humans do, like by Learning and improving upon past experiences.\n",
    "\n",
    "   It works by exploring data and identifying patterns, and involves minimal human intervention."
   ]
  },
  {
   "cell_type": "markdown",
   "id": "bf5f68a9",
   "metadata": {},
   "source": [
    "4.  A Reinforcement Learning Algorithm, which may also be referred to as an agent, learns by interacting with its environment. The agent receives rewards by performing correctly and penalties for performing incorrectly. The agent learns without intervention from a human by maximizing its reward and minimizing its penalty."
   ]
  },
  {
   "cell_type": "markdown",
   "id": "d816a3ee",
   "metadata": {},
   "source": [
    "5. Learning can be viewed as a search through the space of all sentences in a concept description language for a sentence that best describes the data. Alternatively, it can be viewed as a search through all hypotheses in a hypothesis space"
   ]
  },
  {
   "cell_type": "markdown",
   "id": "205014b5",
   "metadata": {},
   "source": [
    "6. The Goal of machine learning, closely coupled with the goal of AI, is to achieve a through understanding about the nature of learning process (both human learning and other forms of learning), about the computational aspects of learning behaviors, and to implant the learning capability in computer systems.\n",
    "\n",
    "Humans have the ability to learn, however with the progress in artificial intelligence, machine learning has become a resource which can augment or even replace human learning. Learning does not happen all at once, but it builds upon and is shaped by previous knowledge."
   ]
  },
  {
   "cell_type": "markdown",
   "id": "1bde53ab",
   "metadata": {},
   "source": [
    "7. Elements Of Machine Learning:\n",
    "- Data Ingestion\n",
    "- Data Validation \n",
    "- Data Transformation\n",
    "- Model Training\n",
    "- Model Selection \n",
    "- Deployment"
   ]
  },
  {
   "cell_type": "markdown",
   "id": "f928ad8e",
   "metadata": {},
   "source": [
    "8. In Machine Learning, Abstraction is supported primarily at the level of modules. This can be justified in two ways: first, Data abstraction is mostly a question of program interfaces and therefore it arises naturally at the point where we have to consider program composition and modules."
   ]
  },
  {
   "cell_type": "markdown",
   "id": "40873b41",
   "metadata": {},
   "source": [
    "9. Generalization refers to your model's ability to adapt properly to new, previously unseen data, drawn from the same distribution as the one used to create the model.\n",
    "\n",
    "In machine learning, generalization is a definition to demonstrate how well is a trained model to classify or forecast unseen data.This issue can result to classify an actual dog image as a cat from the unseen dataset. Therefore, data diversity is very important factor in order to make a good prediction.\n",
    "\n"
   ]
  },
  {
   "cell_type": "markdown",
   "id": "d0202a33",
   "metadata": {},
   "source": [
    "10. In Machine Learning, Classification refers to a predictive modeling problem where a class label is predicted for a given example of input data.Classification is the task of predicting a discrete class label. Whereas Regression is the task of predicting a continuous quantity."
   ]
  },
  {
   "cell_type": "markdown",
   "id": "1387968e",
   "metadata": {},
   "source": [
    "11. Regression is a Supervised Machine Learning technique which is used to predict continuous values. The ultimate goal of a regression algorithm is to plot a best-fit line or a curve between the data.\n",
    "\n",
    "The three main metrics that are used for evaluating the trained regression model are __Variance, Bias and Error__.\n",
    "\n",
    "A simple linear regression real life example could mean you finding a relationship between the revenue and temperature, with a sample size for revenue as the dependent variable. In case of multiple variable regression, you can find the relationship between temperature, pricing and number of workers to the revenue."
   ]
  },
  {
   "cell_type": "markdown",
   "id": "5e561a4e",
   "metadata": {},
   "source": [
    "12. Clustering is the task of dividing the population or data points into a number of groups such that data points in the same groups are more similar to other data points in the same group than those in other groups. In simple words, the aim is to segregate groups with similar traits and assign them into clusters."
   ]
  },
  {
   "cell_type": "markdown",
   "id": "e99dee29",
   "metadata": {},
   "source": [
    "13. __Machine learning algorithms are used__: At its Most basic, Machine Learning uses programmed algorithms that receive and analyse input data to predict output values within an acceptable range. As new data is fed to these algorithms, they learn and optimise their operations to improve performance, developing intelligence over time.\n",
    "\n",
    "__Studying Under Supervision__: In machine learning, there are two important categories- Supervised and Unsupervised learning.Supervised learning, an algorithm learns from a training dataset. We know the correct answers or desired output, the algorithm makes predictions using the given dataset and is corrected by the “supervisor”."
   ]
  }
 ],
 "metadata": {
  "kernelspec": {
   "display_name": "Python 3 (ipykernel)",
   "language": "python",
   "name": "python3"
  },
  "language_info": {
   "codemirror_mode": {
    "name": "ipython",
    "version": 3
   },
   "file_extension": ".py",
   "mimetype": "text/x-python",
   "name": "python",
   "nbconvert_exporter": "python",
   "pygments_lexer": "ipython3",
   "version": "3.9.12"
  }
 },
 "nbformat": 4,
 "nbformat_minor": 5
}
